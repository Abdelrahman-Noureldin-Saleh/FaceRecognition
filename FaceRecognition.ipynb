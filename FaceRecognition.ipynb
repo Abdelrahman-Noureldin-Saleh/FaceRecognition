{
 "cells": [
  {
   "cell_type": "code",
   "execution_count": 3,
   "metadata": {
    "colab": {},
    "colab_type": "code",
    "id": "4SUfjJDSZ2E7"
   },
   "outputs": [],
   "source": [
    "from matplotlib.pyplot import imread\n",
    "import matplotlib.image as mpimg\n",
    "import matplotlib.pyplot as plt\n",
    "from itertools import compress\n",
    "import numpy as np\n",
    "import datetime\n",
    "import zipfile\n",
    "import bisect\n",
    "import os\n",
    "import re"
   ]
  },
  {
   "cell_type": "code",
   "execution_count": 4,
   "metadata": {},
   "outputs": [],
   "source": [
    "from sklearn.neighbors import KNeighborsClassifier\n",
    "from sklearn.metrics import accuracy_score, precision_score, recall_score"
   ]
  },
  {
   "cell_type": "markdown",
   "metadata": {},
   "source": [
    "## **1. Download the dataset and understand the format (10 Points)**"
   ]
  },
  {
   "cell_type": "code",
   "execution_count": 5,
   "metadata": {
    "colab": {},
    "colab_type": "code",
    "id": "ov6NRXedZ4nn"
   },
   "outputs": [],
   "source": [
    "#unzipped = zipfile.ZipFile(\"orl_faces.zip\", 'r')\n",
    "#unzipped.extractall()"
   ]
  },
  {
   "cell_type": "markdown",
   "metadata": {
    "colab_type": "text",
    "id": "0q6AI1DTrcPR"
   },
   "source": [
    "## **2. Generate the Data Matrix and the Label vector (10 Points)**"
   ]
  },
  {
   "cell_type": "code",
   "execution_count": 6,
   "metadata": {
    "colab": {},
    "colab_type": "code",
    "id": "Kdtwwxq3aDDH"
   },
   "outputs": [],
   "source": [
    "data = []\n",
    "labels = []\n",
    "maindir = \"orl_faces\"\n",
    "\n",
    "for subdir in os.listdir(maindir):\n",
    "    if (subdir == \"README\"):\n",
    "        continue\n",
    "    path = os.path.join(maindir, subdir)\n",
    "    for pic in os.listdir(path):\n",
    "        labels.append(int(re.sub(\"s\", \"\", subdir)))\n",
    "        img_path = os.path.join(path, pic)\n",
    "        image = imread(img_path, format = \"pgm\")\n",
    "        x,y = image.shape\n",
    "        image = image.reshape(x*y)\n",
    "        data.append(image)\n",
    "    \n",
    "data = np.array(data)"
   ]
  },
  {
   "cell_type": "markdown",
   "metadata": {
    "colab_type": "text",
    "id": "wMJns0Nmspcv"
   },
   "source": [
    "## **3. Split the Dataset into Training and Test sets (10 Points)**"
   ]
  },
  {
   "cell_type": "code",
   "execution_count": 7,
   "metadata": {},
   "outputs": [],
   "source": [
    "mask = ([False] * 5 + [True] * 5) * 40\n",
    "\n",
    "X_train = np.array(list(compress(data, mask)))\n",
    "y_train = np.array(list(compress(labels, mask)))\n",
    "\n",
    "X_test = np.array(list(compress(data, np.invert(mask))))\n",
    "y_test = np.array(list(compress(labels, np.invert(mask))))"
   ]
  },
  {
   "cell_type": "markdown",
   "metadata": {
    "colab_type": "text",
    "id": "rvZuK-OG1P2i"
   },
   "source": [
    "## **4. Classification using PCA.(30 points)**"
   ]
  },
  {
   "cell_type": "code",
   "execution_count": 8,
   "metadata": {
    "colab": {},
    "colab_type": "code",
    "id": "tdy2l6zn0-e6"
   },
   "outputs": [],
   "source": [
    "class PCA():\n",
    "    def __init__(self):\n",
    "        self.explained_variances = None\n",
    "        self.cumulative_sum = None\n",
    "        self.sorted_eigenvectors = None\n",
    "   \n",
    "    def solve(self, X_train):\n",
    "        n = X_train.shape[0]\n",
    "        means = np.mean(X_train, axis = 0)                                #1\n",
    "        centered_data = X_train - means                                   #2\n",
    "        covariance = np.dot(centered_data.T, centered_data)/n             #3\n",
    "        \n",
    "        print (str(datetime.datetime.now()), \" -- covariance done\")\n",
    "        eigenvalues, eigenvectors = np.linalg.eigh(covariance)       #4, 5\n",
    "        print (str(datetime.datetime.now()), \" -- eigenvectors done\")\n",
    "        \n",
    "        self.explained_variances, self.sorted_eigenvectors = np.flip(eigenvalues, axis = 0), np.flip(eigenvectors, axis = 1)\n",
    "    \n",
    "        self.cumulative_sum = np.cumsum(self.explained_variances) / np.sum(self.explained_variances)  #6\n",
    "    \n",
    "    \n",
    "    def get_projection_matrix(self, alpha):\n",
    "        stop_index = bisect.bisect(self.cumulative_sum, alpha)\n",
    "        return self.sorted_eigenvectors[:, 0:stop_index]\n",
    "      "
   ]
  },
  {
   "cell_type": "code",
   "execution_count": 9,
   "metadata": {
    "colab": {},
    "colab_type": "code",
    "id": "37Ncli5b61kZ"
   },
   "outputs": [
    {
     "name": "stdout",
     "output_type": "stream",
     "text": [
      "2019-03-11 14:56:56.477047  -- covariance done\n",
      "2019-03-11 14:58:43.359301  -- eigenvectors done\n"
     ]
    }
   ],
   "source": [
    "pca = PCA()\n",
    "pca.solve(X_train)"
   ]
  },
  {
   "cell_type": "code",
   "execution_count": 10,
   "metadata": {
    "colab": {},
    "colab_type": "code",
    "id": "NCEJLkRZCiV0"
   },
   "outputs": [
    {
     "name": "stdout",
     "output_type": "stream",
     "text": [
      "1.0000000000000004\n",
      "(10304, 36)\n",
      "(10304, 52)\n",
      "(10304, 76)\n",
      "(10304, 116)\n"
     ]
    }
   ],
   "source": [
    "print(pca.cumulative_sum[-1])\n",
    "alpha_values = [0.8, 0.85, 0.9, 0.95]\n",
    "for alpha in alpha_values:\n",
    "    projection_matrix = pca.get_projection_matrix(alpha)\n",
    "    print(projection_matrix.shape)"
   ]
  },
  {
   "cell_type": "markdown",
   "metadata": {
    "colab_type": "text",
    "id": "sRkvWwC-C-Yk"
   },
   "source": [
    "## **5. Classification using LDA(30 points)**"
   ]
  },
  {
   "cell_type": "code",
   "execution_count": 11,
   "metadata": {
    "colab": {},
    "colab_type": "code",
    "id": "ooxOROSsDACk"
   },
   "outputs": [],
   "source": [
    "class LDA():\n",
    "    def __init__(self):\n",
    "        self.scatter_b = None\n",
    "        self.scatter_w = None\n",
    "        self.dominant_eigenvectors = None\n",
    "        \n",
    "    def solve(self, x_train, y_train, num_vectors):\n",
    "        n, m = x_train.shape[0], x_train.shape[1]\n",
    "        unique_classes = np.unique(y_train)\n",
    "        \n",
    "        total_mean = np.mean(x_train, axis = 0)\n",
    "        means = np.zeros((unique_classes.size, m))\n",
    "        nks = np.zeros(unique_classes.size)\n",
    "        self.scatter_w = np.zeros((m, m))\n",
    "\n",
    "        for label, c in zip(unique_classes, range(unique_classes.size)):\n",
    "            class_examples = x_train[y_train == label]\n",
    "            nks[c] = class_examples.shape[0]\n",
    "            means[c] = np.mean(class_examples, axis = 0)\n",
    "            centered_data = np.matrix(class_examples - means[c])\n",
    "            self.scatter_w += np.matmul(centered_data.T, centered_data)\n",
    "            \n",
    "        print (str(datetime.datetime.now()), \" -- loops done\")\n",
    "        normalized_means = np.matrix(means - total_mean).T\n",
    "        self.scatter_b = np.matmul(np.multiply(nks.T, normalized_means), normalized_means.T)\n",
    "               \n",
    "        print (str(datetime.datetime.now()), \" -- scatter_b done\")\n",
    "        s_inv = np.linalg.pinv(self.scatter_w)\n",
    "        print (str(datetime.datetime.now()), \" -- inverse done\")\n",
    "        eigenvalues, eigenvectors = np.linalg.eig(np.matmul(s_inv, self.scatter_b))\n",
    "        print (str(datetime.datetime.now()), \" -- eigenvectors done\")\n",
    "        \n",
    "        indices = np.flip(np.argsort(eigenvalues), axis = 0)[0:num_vectors]\n",
    "        self.dominant_eigenvectors = eigenvectors[:, indices]            "
   ]
  },
  {
   "cell_type": "code",
   "execution_count": 25,
   "metadata": {},
   "outputs": [
    {
     "name": "stdout",
     "output_type": "stream",
     "text": [
      "2019-03-11 15:01:24.104791  -- loops done\n",
      "2019-03-11 15:01:24.643352  -- scatter_b done\n",
      "2019-03-11 15:08:19.749258  -- inverse done\n",
      "2019-03-11 15:14:57.808958  -- eigenvectors done\n"
     ]
    }
   ],
   "source": [
    "num_vectors = 39\n",
    "lda = LDA()\n",
    "lda.solve(X_train, y_train, num_vectors)"
   ]
  },
  {
   "cell_type": "markdown",
   "metadata": {},
   "source": [
    "## 6. Classifier Tuning (20 points)\n"
   ]
  },
  {
   "cell_type": "markdown",
   "metadata": {},
   "source": [
    "### For PCA"
   ]
  },
  {
   "cell_type": "code",
   "execution_count": 12,
   "metadata": {},
   "outputs": [
    {
     "name": "stdout",
     "output_type": "stream",
     "text": [
      "(10304, 36)\n",
      "(10304, 52)\n",
      "(10304, 76)\n",
      "(10304, 116)\n"
     ]
    }
   ],
   "source": [
    "alpha_values = [0.8, 0.85, 0.9, 0.95]\n",
    "k_values = [1, 3, 5, 7]\n",
    "train_scores = np.zeros((len(alpha_values), len(k_values)))\n",
    "test_scores = np.zeros((len(alpha_values), len(k_values)))\n",
    "for i in range(len(alpha_values)):\n",
    "    projection_matrix = pca.get_projection_matrix(alpha_values[i])\n",
    "    \n",
    "    #projection_matrix = pca.sorted_eigenvectors\n",
    "    print(projection_matrix.shape)\n",
    "    projected_train_data = np.matmul(X_train, projection_matrix)\n",
    "    projected_test_data = np.matmul(X_test, projection_matrix)\n",
    "    \n",
    "    for k in range(len(k_values)):\n",
    "        knn = KNeighborsClassifier(n_neighbors = k_values[k])\n",
    "        knn.fit(projected_train_data, y_train)\n",
    "        \n",
    "        train_predictions = knn.predict(projected_train_data)\n",
    "        test_predictions = knn.predict(projected_test_data)\n",
    "        \n",
    "        train_scores[i,k] = accuracy_score(y_train, train_predictions)\n",
    "        test_scores[i,k] = accuracy_score(y_test, test_predictions)"
   ]
  },
  {
   "cell_type": "code",
   "execution_count": 13,
   "metadata": {},
   "outputs": [
    {
     "name": "stdout",
     "output_type": "stream",
     "text": [
      "[[1.    0.95  0.935 0.85 ]\n",
      " [1.    0.95  0.915 0.87 ]\n",
      " [1.    0.95  0.905 0.855]\n",
      " [1.    0.955 0.895 0.85 ]]\n",
      "[[0.925 0.825 0.765 0.725]\n",
      " [0.925 0.825 0.78  0.72 ]\n",
      " [0.935 0.815 0.785 0.73 ]\n",
      " [0.935 0.83  0.8   0.735]]\n"
     ]
    }
   ],
   "source": [
    "print(train_scores)\n",
    "print(test_scores)"
   ]
  },
  {
   "cell_type": "code",
   "execution_count": 14,
   "metadata": {},
   "outputs": [
    {
     "data": {
      "text/plain": [
       "Text(0,0.5,'Accuracy')"
      ]
     },
     "execution_count": 14,
     "metadata": {},
     "output_type": "execute_result"
    },
    {
     "data": {
      "image/png": "[encoded data removed]",
      "text/plain": [
       "<matplotlib.figure.Figure at 0x28e1b41d240>"
      ]
     },
     "metadata": {
      "needs_background": "light"
     },
     "output_type": "display_data"
    }
   ],
   "source": [
    "plt.scatter([1, 3, 5, 7], [0.925, 0.825, 0.765, 0.725])\n",
    "plt.scatter([1, 3, 5, 7], [0.925, 0.825, 0.78,  0.72])\n",
    "plt.scatter([1, 3, 5, 7], [0.935, 0.815, 0.785, 0.73])\n",
    "plt.scatter([1, 3, 5, 7], [0.935, 0.83,  0.8, 0.735])\n",
    "plt.legend(['0.8','0.85', '0.9', '0.95'])\n",
    "plt.xlabel('k')\n",
    "plt.ylabel('Accuracy')"
   ]
  },
  {
   "cell_type": "code",
   "execution_count": 15,
   "metadata": {},
   "outputs": [
    {
     "data": {
      "text/plain": [
       "Text(0,0.5,'Accuracy')"
      ]
     },
     "execution_count": 15,
     "metadata": {},
     "output_type": "execute_result"
    },
    {
     "data": {
      "image/png": "[encoded data removed]",
      "text/plain": [
       "<matplotlib.figure.Figure at 0x28e1b41df60>"
      ]
     },
     "metadata": {
      "needs_background": "light"
     },
     "output_type": "display_data"
    }
   ],
   "source": [
    "plt.scatter([0.8, 0.85, 0.9, 0.95], [0.925, 0.825, 0.765, 0.725])\n",
    "plt.scatter([0.8, 0.85, 0.9, 0.95], [0.925, 0.825, 0.78,  0.72])\n",
    "plt.scatter([0.8, 0.85, 0.9, 0.95], [0.935, 0.815, 0.785, 0.73])\n",
    "plt.scatter([0.8, 0.85, 0.9, 0.95], [0.935, 0.83,  0.8, 0.735])\n",
    "plt.legend(['k=1','k=3', 'k=5', 'k=7'])\n",
    "plt.xlabel('alpha')\n",
    "plt.ylabel('Accuracy')"
   ]
  },
  {
   "cell_type": "markdown",
   "metadata": {},
   "source": [
    "### For LDA"
   ]
  },
  {
   "cell_type": "code",
   "execution_count": 26,
   "metadata": {},
   "outputs": [
    {
     "data": {
      "text/plain": [
       "(200, 39)"
      ]
     },
     "execution_count": 26,
     "metadata": {},
     "output_type": "execute_result"
    }
   ],
   "source": [
    "projected_train_data = np.dot(X_train, lda.dominant_eigenvectors)\n",
    "projected_train_data.shape\n",
    "\n",
    "projected_test_data = np.dot(X_test, lda.dominant_eigenvectors)\n",
    "projected_test_data.shape"
   ]
  },
  {
   "cell_type": "code",
   "execution_count": 27,
   "metadata": {},
   "outputs": [
    {
     "name": "stderr",
     "output_type": "stream",
     "text": [
      "D:\\Users\\AbdElRahman\\Anaconda3\\lib\\site-packages\\numpy\\core\\numeric.py:492: ComplexWarning: Casting complex values to real discards the imaginary part\n",
      "  return array(a, dtype, copy=False, order=order)\n",
      "D:\\Users\\AbdElRahman\\Anaconda3\\lib\\site-packages\\sklearn\\utils\\validation.py:433: ComplexWarning: Casting complex values to real discards the imaginary part\n",
      "  array = np.array(array, dtype=dtype, order=order, copy=copy)\n"
     ]
    }
   ],
   "source": [
    "k_values = [1, 3, 5, 7, 9]\n",
    "train_scores = []\n",
    "test_scores = []\n",
    "for k in k_values:\n",
    "    knn = KNeighborsClassifier(n_neighbors = k)\n",
    "    knn = knn.fit(projected_train_data, y_train)\n",
    "    \n",
    "    train_predictions = knn.predict(projected_train_data)\n",
    "    test_predictions = knn.predict(projected_test_data)\n",
    "    \n",
    "    train_scores.append(accuracy_score(y_train, train_predictions))\n",
    "    test_scores.append(accuracy_score(y_test, test_predictions))"
   ]
  },
  {
   "cell_type": "code",
   "execution_count": 28,
   "metadata": {},
   "outputs": [
    {
     "name": "stdout",
     "output_type": "stream",
     "text": [
      "[1.0, 0.86, 0.865, 0.865, 0.875]\n",
      "[0.84, 0.8, 0.815, 0.79, 0.78]\n"
     ]
    },
    {
     "data": {
      "text/plain": [
       "Text(0,0.5,'Accuracy')"
      ]
     },
     "execution_count": 28,
     "metadata": {},
     "output_type": "execute_result"
    },
    {
     "data": {
      "image/png": "[encoded data removed]",
      "text/plain": [
       "<matplotlib.figure.Figure at 0x28e1cd528d0>"
      ]
     },
     "metadata": {
      "needs_background": "light"
     },
     "output_type": "display_data"
    }
   ],
   "source": [
    "print(train_scores)\n",
    "print(test_scores)\n",
    "plt.scatter([1, 3, 5, 7, 9], test_scores)\n",
    "plt.xlabel('k')\n",
    "plt.ylabel('Accuracy')"
   ]
  },
  {
   "cell_type": "markdown",
   "metadata": {},
   "source": [
    "## 7. BONUS (20 Points)"
   ]
  },
  {
   "cell_type": "markdown",
   "metadata": {},
   "source": [
    "#### a. [5 points] Use different Training and Test splits. Change the number of instances per subject to be 7 and keep 3 instances per subject for testing. compare the results you have with the ones you got earlier with 50% split."
   ]
  },
  {
   "cell_type": "code",
   "execution_count": 16,
   "metadata": {},
   "outputs": [],
   "source": [
    "mask = ([True] * 7 + [False] * 3) * 40\n",
    "\n",
    "X_train_bonus = np.array(list(compress(data, mask)))\n",
    "y_train_bonus = np.array(list(compress(labels, mask)))\n",
    "\n",
    "X_test_bonus = np.array(list(compress(data, np.invert(mask))))\n",
    "y_test_bonus = np.array(list(compress(labels, np.invert(mask))))"
   ]
  },
  {
   "cell_type": "code",
   "execution_count": 17,
   "metadata": {},
   "outputs": [
    {
     "name": "stdout",
     "output_type": "stream",
     "text": [
      "2019-03-11 14:58:46.508060  -- covariance done\n",
      "2019-03-11 15:00:32.252324  -- eigenvectors done\n"
     ]
    }
   ],
   "source": [
    "pca_bonus = PCA()\n",
    "pca_bonus.solve(X_train_bonus)"
   ]
  },
  {
   "cell_type": "code",
   "execution_count": 18,
   "metadata": {},
   "outputs": [
    {
     "data": {
      "text/plain": [
       "(280, 26)"
      ]
     },
     "execution_count": 18,
     "metadata": {},
     "output_type": "execute_result"
    }
   ],
   "source": [
    "alpha_bonus = 0.75\n",
    "projection_matrix_bonus = pca_bonus.get_projection_matrix(alpha_bonus)\n",
    "projected_train_data_bonus = np.matmul(X_train_bonus, projection_matrix_bonus)\n",
    "projected_test_data_bonus = np.matmul(X_test_bonus, projection_matrix_bonus)\n",
    "\n",
    "projected_train_data_bonus.shape"
   ]
  },
  {
   "cell_type": "code",
   "execution_count": 19,
   "metadata": {},
   "outputs": [],
   "source": [
    "k_bonus = 1\n",
    "knn_bonus = KNeighborsClassifier(n_neighbors = k_bonus)\n",
    "knn_bonus.fit(projected_train_data_bonus, y_train_bonus)\n",
    "\n",
    "train_predictions_bonus = knn_bonus.predict(projected_train_data_bonus)\n",
    "test_predictions_bonus = knn_bonus.predict(projected_test_data_bonus)\n",
    "\n",
    "train_scores_bonus = accuracy_score(y_train_bonus, train_predictions_bonus)\n",
    "test_scores_bonus = accuracy_score(y_test_bonus, test_predictions_bonus)"
   ]
  },
  {
   "cell_type": "code",
   "execution_count": 20,
   "metadata": {},
   "outputs": [
    {
     "name": "stdout",
     "output_type": "stream",
     "text": [
      "1.0\n",
      "0.9583333333333334\n"
     ]
    }
   ],
   "source": [
    "print(train_scores_bonus)\n",
    "print(test_scores_bonus)"
   ]
  },
  {
   "cell_type": "markdown",
   "metadata": {},
   "source": [
    "#### b. [15 points] Download non-face images and make them of same size 92x112. and try to solve the classification problem faces vs. Non-faces.\n",
    "#####             i. Show failure and success cases.\n",
    "#####             ii. How many dominant eigenvectors will you use for the LDA solution?\n",
    "#####             iii. Plot the accuracy vs the number of non-faces images while fixing the number of face images.\n",
    "#####             iv. Criticize the accuracy measure for large numbers of non-faces images in the training data."
   ]
  },
  {
   "cell_type": "code",
   "execution_count": 21,
   "metadata": {},
   "outputs": [],
   "source": [
    "from PIL import Image "
   ]
  },
  {
   "cell_type": "code",
   "execution_count": 22,
   "metadata": {},
   "outputs": [
    {
     "name": "stdout",
     "output_type": "stream",
     "text": [
      "(400, 10304)\n"
     ]
    }
   ],
   "source": [
    "path_bonus = \"not_faces\"\n",
    "width, height = 112, 92\n",
    "data_bonus = []\n",
    "\n",
    "for pic in os.listdir(path_bonus):\n",
    "    img_path = os.path.join(path_bonus, pic)\n",
    "    img = Image.open(img_path)\n",
    "    img = img.resize((width, height))\n",
    "    img = img.convert('L')\n",
    "    image = np.array(img.getdata())\n",
    "    data_bonus.append(image)\n",
    "    \n",
    "data_bonus = np.array(data_bonus)    \n",
    "print(data_bonus.shape)"
   ]
  },
  {
   "cell_type": "code",
   "execution_count": 23,
   "metadata": {},
   "outputs": [
    {
     "name": "stdout",
     "output_type": "stream",
     "text": [
      "(800, 10304)\n"
     ]
    }
   ],
   "source": [
    "label_dict = {1: \"Face\", 0: \"Other\"}\n",
    "labels_bonus = [1] * 400 + [0] * 400\n",
    "all_data = np.concatenate((data, data_bonus))\n",
    "print(all_data.shape)"
   ]
  },
  {
   "cell_type": "code",
   "execution_count": 24,
   "metadata": {},
   "outputs": [],
   "source": [
    "mask = ([True] * 300 + [False] * 100) * 2\n",
    "\n",
    "X_train_bonus2 = np.array(list(compress(all_data, mask)))\n",
    "y_train_bonus2 = np.array(list(compress(labels_bonus, mask)))\n",
    "\n",
    "X_test_bonus2 = np.array(list(compress(all_data, np.invert(mask))))\n",
    "y_test_bonus2 = np.array(list(compress(labels_bonus, np.invert(mask))))"
   ]
  },
  {
   "cell_type": "code",
   "execution_count": 37,
   "metadata": {},
   "outputs": [
    {
     "name": "stdout",
     "output_type": "stream",
     "text": [
      "2019-03-11 15:25:08.603981  -- loops done\n",
      "2019-03-11 15:25:09.592342  -- scatter_b done\n",
      "2019-03-11 15:32:14.058430  -- inverse done\n",
      "2019-03-11 21:31:16.421937  -- eigenvectors done\n"
     ]
    }
   ],
   "source": [
    "num_vectors = 40\n",
    "lda_bonus = LDA()\n",
    "lda_bonus.solve(X_train_bonus2, y_train_bonus2, num_vectors)"
   ]
  },
  {
   "cell_type": "code",
   "execution_count": 38,
   "metadata": {},
   "outputs": [
    {
     "name": "stdout",
     "output_type": "stream",
     "text": [
      "[[ 4.17279090e-02+0.j          1.26647687e-02-0.03023384j\n",
      "   1.26647687e-02+0.03023384j ...  4.54172985e-02+0.00253888j\n",
      "   4.54172985e-02-0.00253888j  1.40900473e-03+0.02322283j]\n",
      " [-7.07242813e-01+0.j         -3.04529607e-01+0.12931727j\n",
      "  -3.04529607e-01-0.12931727j ... -1.30748315e-02-0.03792549j\n",
      "  -1.30748315e-02+0.03792549j -1.36061633e-03+0.05105257j]\n",
      " [-2.69491778e-01+0.j          1.05657273e-01-0.11370221j\n",
      "   1.05657273e-01+0.11370221j ... -2.00420493e-03-0.02889095j\n",
      "  -2.00420493e-03+0.02889095j -3.58233046e-02+0.00899632j]\n",
      " ...\n",
      " [ 3.27160247e-03+0.j         -2.29683050e-03-0.00836082j\n",
      "  -2.29683050e-03+0.00836082j ...  4.52909560e-03+0.00220151j\n",
      "   4.52909560e-03-0.00220151j  6.93952754e-03+0.00219125j]\n",
      " [ 7.45908107e-04+0.j         -9.22375323e-04-0.00200706j\n",
      "  -9.22375323e-04+0.00200706j ...  2.73015827e-04-0.00264044j\n",
      "   2.73015827e-04+0.00264044j  1.11517080e-03+0.00177436j]\n",
      " [ 5.08208794e-03+0.j          5.42034048e-03-0.00073255j\n",
      "   5.42034048e-03+0.00073255j ...  1.80659093e-02+0.01224264j\n",
      "   1.80659093e-02-0.01224264j -8.31877980e-03-0.01494374j]]\n"
     ]
    }
   ],
   "source": [
    "print(lda_bonus.dominant_eigenvectors)"
   ]
  },
  {
   "cell_type": "code",
   "execution_count": 39,
   "metadata": {},
   "outputs": [],
   "source": [
    "from sklearn.linear_model import LogisticRegression\n",
    "from sklearn.svm import SVC"
   ]
  },
  {
   "cell_type": "code",
   "execution_count": 40,
   "metadata": {},
   "outputs": [
    {
     "name": "stderr",
     "output_type": "stream",
     "text": [
      "D:\\Users\\AbdElRahman\\Anaconda3\\lib\\site-packages\\sklearn\\utils\\validation.py:433: ComplexWarning: Casting complex values to real discards the imaginary part\n",
      "  array = np.array(array, dtype=dtype, order=order, copy=copy)\n"
     ]
    },
    {
     "name": "stdout",
     "output_type": "stream",
     "text": [
      "Train Results: svm\n",
      "1.0\n",
      "1.0\n",
      "1.0\n",
      "Test Results: svm\n",
      "0.5\n",
      "0.0\n",
      "0.0\n",
      "Train Results: lr\n",
      "1.0\n",
      "1.0\n",
      "1.0\n",
      "Test Results: lr\n",
      "0.51\n",
      "0.5096153846153846\n",
      "0.53\n"
     ]
    },
    {
     "name": "stderr",
     "output_type": "stream",
     "text": [
      "D:\\Users\\AbdElRahman\\Anaconda3\\lib\\site-packages\\sklearn\\metrics\\classification.py:1135: UndefinedMetricWarning: Precision is ill-defined and being set to 0.0 due to no predicted samples.\n",
      "  'precision', 'predicted', average, warn_for)\n"
     ]
    }
   ],
   "source": [
    "projected_train_data = np.matmul(X_train_bonus2, lda_bonus.dominant_eigenvectors)\n",
    "projected_test_data = np.matmul(X_test_bonus2, lda_bonus.dominant_eigenvectors)\n",
    "\n",
    "svm = SVC().fit(projected_train_data, y_train_bonus2)\n",
    "lr = LogisticRegression().fit(projected_train_data, y_train_bonus2)\n",
    "\n",
    "svm_train_predictions = svm.predict(projected_train_data)\n",
    "lr_train_predictions = lr.predict(projected_train_data)\n",
    "\n",
    "svm_test_predictions = svm.predict(projected_test_data)\n",
    "lr_test_predictions = lr.predict(projected_test_data)\n",
    "\n",
    "print(\"Train Results: svm\")\n",
    "print(accuracy_score(y_train_bonus2, svm_train_predictions))\n",
    "print(precision_score(y_train_bonus2, svm_train_predictions))\n",
    "print(recall_score(y_train_bonus2, svm_train_predictions))\n",
    "\n",
    "print(\"Test Results: svm\")\n",
    "print(accuracy_score(y_test_bonus2, svm_test_predictions))\n",
    "print(precision_score(y_test_bonus2, svm_test_predictions))\n",
    "print(recall_score(y_test_bonus2, svm_test_predictions))\n",
    "\n",
    "print(\"Train Results: lr\")\n",
    "print(accuracy_score(y_train_bonus2, lr_train_predictions))\n",
    "print(precision_score(y_train_bonus2, lr_train_predictions))\n",
    "print(recall_score(y_train_bonus2, lr_train_predictions))\n",
    "\n",
    "print(\"Test Results: lr\")\n",
    "print(accuracy_score(y_test_bonus2, lr_test_predictions))\n",
    "print(precision_score(y_test_bonus2, lr_test_predictions))\n",
    "print(recall_score(y_test_bonus2, lr_test_predictions))"
   ]
  },
  {
   "cell_type": "markdown",
   "metadata": {},
   "source": [
    "# Testing "
   ]
  },
  {
   "cell_type": "code",
   "execution_count": 29,
   "metadata": {},
   "outputs": [
    {
     "name": "stdout",
     "output_type": "stream",
     "text": [
      " Volume in drive C is Windows\n",
      " Volume Serial Number is 5C1D-07F6\n",
      "\n",
      " Directory of C:\\Users\\Abd El Rahman\\Desktop\\College\\Term 8\\Pattern recognition\\Projects\\Face Recognition\n",
      "\n",
      "03/11/2019  03:08 PM    <DIR>          .\n",
      "03/11/2019  03:08 PM    <DIR>          ..\n",
      "03/03/2019  12:09 PM    <DIR>          .ipynb_checkpoints\n",
      "04/18/1994  03:17 PM            10,318 1.pgm\n",
      "03/01/2019  08:09 PM         4,075,767 att_faces.tar.Z\n",
      "03/01/2019  07:58 PM            41,135 Colab.ipynb\n",
      "03/11/2019  03:08 PM            46,285 Jupyter.ipynb\n",
      "03/07/2019  09:48 PM    <DIR>          not_faces\n",
      "03/07/2019  09:33 PM    <DIR>          notFaces\n",
      "03/01/2019  03:53 PM    <DIR>          orl_faces\n",
      "03/01/2019  08:35 PM         3,801,749 orl_faces.zip\n",
      "03/07/2019  11:49 PM            93,771 Report.pdf\n",
      "03/07/2019  09:37 PM             2,019 result.png\n",
      "03/05/2019  12:28 AM             2,061 Untitled.ipynb\n",
      "               8 File(s)      8,073,105 bytes\n",
      "               6 Dir(s)  18,466,070,528 bytes free\n"
     ]
    }
   ],
   "source": [
    "ls"
   ]
  },
  {
   "cell_type": "code",
   "execution_count": 30,
   "metadata": {},
   "outputs": [],
   "source": [
    "width, height = 112, 92\n",
    "img = Image.open(\"not_faces\\\\000000452515.jpg\") # open colour image\n",
    "img_resized = img.resize((width, height))\n",
    "img_resized.show()\n",
    "img_greyscale = img_resized.convert('L')\n",
    "img_greyscale.show()"
   ]
  },
  {
   "cell_type": "code",
   "execution_count": 31,
   "metadata": {},
   "outputs": [
    {
     "name": "stdout",
     "output_type": "stream",
     "text": [
      "C:\\Users\\Abd El Rahman\\Desktop\\College\\Term 8\\Pattern recognition\\Projects\\Face Recognition\\notFaces\n"
     ]
    }
   ],
   "source": [
    "cd notFaces"
   ]
  },
  {
   "cell_type": "code",
   "execution_count": 32,
   "metadata": {},
   "outputs": [
    {
     "name": "stdout",
     "output_type": "stream",
     "text": [
      " Volume in drive C is Windows\n",
      " Volume Serial Number is 5C1D-07F6\n",
      "\n",
      " Directory of C:\\Users\\Abd El Rahman\\Desktop\\College\\Term 8\\Pattern recognition\\Projects\\Face Recognition\\notFaces\n",
      "\n",
      "03/07/2019  09:33 PM    <DIR>          .\n",
      "03/07/2019  09:33 PM    <DIR>          ..\n",
      "08/16/2014  03:02 AM           155,667 000000000632.jpg\n",
      "08/16/2014  03:05 AM           321,136 000000001000.jpg\n",
      "08/16/2014  03:01 AM           111,309 000000001425.jpg\n",
      "08/16/2014  02:37 AM           174,022 000000001532.jpg\n",
      "08/16/2014  02:47 AM            97,643 000000001675.jpg\n",
      "08/16/2014  02:40 AM           202,589 000000002006.jpg\n",
      "08/16/2014  03:09 AM           136,034 000000002153.jpg\n",
      "08/16/2014  02:46 AM           165,837 000000004795.jpg\n",
      "08/16/2014  02:56 AM           166,135 000000006012.jpg\n",
      "08/16/2014  03:03 AM           291,912 000000007278.jpg\n",
      "08/16/2014  03:08 AM           135,698 000000007511.jpg\n",
      "08/16/2014  02:31 AM           163,988 000000007574.jpg\n",
      "08/16/2014  03:04 AM           231,097 000000008629.jpg\n",
      "08/16/2014  02:39 AM           284,674 000000008899.jpg\n",
      "08/16/2014  03:06 AM           104,999 000000009400.jpg\n",
      "08/16/2014  02:46 AM           327,350 000000009769.jpg\n",
      "08/16/2014  02:51 AM           131,797 000000009891.jpg\n",
      "08/16/2014  03:02 AM           162,551 000000009914.jpg\n",
      "08/16/2014  03:02 AM            73,294 000000010995.jpg\n",
      "08/16/2014  02:44 AM           239,715 000000011122.jpg\n",
      "08/16/2014  02:34 AM            81,731 000000012667.jpg\n",
      "08/16/2014  02:43 AM           215,292 000000013659.jpg\n",
      "08/16/2014  03:06 AM           115,491 000000013729.jpg\n",
      "08/16/2014  02:53 AM           173,437 000000013774.jpg\n",
      "08/16/2014  02:46 AM           199,176 000000014888.jpg\n",
      "08/16/2014  02:57 AM           170,921 000000015278.jpg\n",
      "08/16/2014  02:47 AM            72,623 000000015497.jpg\n",
      "08/16/2014  02:40 AM           194,615 000000015517.jpg\n",
      "08/16/2014  02:54 AM           191,329 000000015956.jpg\n",
      "08/16/2014  03:08 AM           101,963 000000016439.jpg\n",
      "08/16/2014  02:52 AM           349,935 000000017029.jpg\n",
      "08/16/2014  02:33 AM           134,840 000000017207.jpg\n",
      "08/16/2014  02:37 AM           186,973 000000017627.jpg\n",
      "08/16/2014  03:13 AM           169,159 000000017714.jpg\n",
      "08/16/2014  02:58 AM           151,689 000000018575.jpg\n",
      "08/16/2014  02:46 AM           224,384 000000018837.jpg\n",
      "08/16/2014  03:05 AM           223,434 000000019432.jpg\n",
      "08/16/2014  02:56 AM           103,764 000000021503.jpg\n",
      "08/16/2014  02:49 AM           227,109 000000021903.jpg\n",
      "08/16/2014  02:36 AM           126,139 000000022396.jpg\n",
      "08/16/2014  02:59 AM            97,567 000000022479.jpg\n",
      "08/16/2014  02:38 AM           244,843 000000022589.jpg\n",
      "08/16/2014  03:12 AM            93,299 000000022623.jpg\n",
      "08/16/2014  02:42 AM           374,702 000000023230.jpg\n",
      "08/16/2014  03:06 AM           340,720 000000024144.jpg\n",
      "08/16/2014  03:12 AM           266,102 000000024243.jpg\n",
      "08/16/2014  03:06 AM            98,318 000000024610.jpg\n",
      "08/16/2014  02:48 AM           142,045 000000025393.jpg\n",
      "08/16/2014  02:46 AM            86,329 000000025560.jpg\n",
      "08/16/2014  02:42 AM           322,743 000000025593.jpg\n",
      "08/16/2014  03:15 AM           184,128 000000025986.jpg\n",
      "08/16/2014  03:10 AM           112,390 000000027620.jpg\n",
      "08/16/2014  02:30 AM           271,525 000000029187.jpg\n",
      "08/16/2014  02:49 AM           183,947 000000029984.jpg\n",
      "08/16/2014  02:51 AM           210,843 000000030494.jpg\n",
      "08/16/2014  02:57 AM           214,368 000000030785.jpg\n",
      "08/16/2014  02:53 AM           184,494 000000031269.jpg\n",
      "08/16/2014  03:06 AM           179,749 000000031735.jpg\n",
      "08/16/2014  02:46 AM           213,586 000000033109.jpg\n",
      "08/16/2014  02:36 AM           142,946 000000033114.jpg\n",
      "08/16/2014  02:50 AM           146,723 000000034139.jpg\n",
      "08/16/2014  02:53 AM           217,514 000000034452.jpg\n",
      "08/16/2014  02:30 AM            94,292 000000034873.jpg\n",
      "08/16/2014  03:11 AM           125,225 000000035326.jpg\n",
      "08/16/2014  03:04 AM           106,936 000000036844.jpg\n",
      "08/16/2014  02:33 AM           117,794 000000037670.jpg\n",
      "08/16/2014  03:05 AM           110,185 000000037740.jpg\n",
      "08/16/2014  02:35 AM           225,989 000000037751.jpg\n",
      "08/16/2014  03:10 AM            67,967 000000037988.jpg\n",
      "08/16/2014  03:10 AM           118,852 000000039405.jpg\n",
      "08/16/2014  02:43 AM           423,483 000000039670.jpg\n",
      "08/16/2014  02:47 AM           173,131 000000039769.jpg\n",
      "08/16/2014  02:47 AM           180,426 000000041635.jpg\n",
      "08/16/2014  02:43 AM           282,914 000000041888.jpg\n",
      "08/16/2014  02:39 AM           207,577 000000042070.jpg\n",
      "08/16/2014  02:43 AM           268,445 000000042178.jpg\n",
      "08/16/2014  03:04 AM           103,927 000000042528.jpg\n",
      "08/16/2014  02:54 AM           284,565 000000045070.jpg\n",
      "08/16/2014  02:30 AM           154,068 000000045229.jpg\n",
      "08/16/2014  02:55 AM           143,449 000000045728.jpg\n",
      "08/16/2014  03:07 AM           200,234 000000046031.jpg\n",
      "08/16/2014  03:03 AM           112,232 000000046048.jpg\n",
      "08/16/2014  03:09 AM           314,908 000000046252.jpg\n",
      "08/16/2014  02:39 AM           302,533 000000046804.jpg\n",
      "08/16/2014  02:41 AM           208,297 000000047010.jpg\n",
      "08/16/2014  03:04 AM           188,896 000000047112.jpg\n",
      "08/16/2014  02:31 AM            73,872 000000047121.jpg\n",
      "08/16/2014  02:37 AM           201,215 000000387387.jpg\n",
      "08/16/2014  02:40 AM           157,146 000000389684.jpg\n",
      "08/16/2014  02:51 AM           182,015 000000389933.jpg\n",
      "08/16/2014  02:51 AM           193,816 000000390826.jpg\n",
      "08/16/2014  03:07 AM           110,383 000000391140.jpg\n",
      "08/16/2014  03:01 AM           227,058 000000393014.jpg\n",
      "08/16/2014  03:04 AM           154,106 000000393056.jpg\n",
      "08/16/2014  02:46 AM           204,532 000000393226.jpg\n",
      "08/16/2014  02:33 AM           114,851 000000393569.jpg\n",
      "08/16/2014  02:45 AM           249,418 000000394206.jpg\n",
      "08/16/2014  02:59 AM           106,275 000000394510.jpg\n",
      "08/16/2014  02:37 AM           142,571 000000394611.jpg\n",
      "08/16/2014  03:14 AM           156,268 000000395343.jpg\n",
      "08/16/2014  02:44 AM           194,232 000000395633.jpg\n",
      "08/16/2014  03:07 AM           201,541 000000395701.jpg\n",
      "08/16/2014  03:09 AM           162,312 000000395801.jpg\n",
      "08/16/2014  02:56 AM           299,165 000000396274.jpg\n",
      "08/16/2014  03:13 AM           109,047 000000397354.jpg\n",
      "08/16/2014  03:08 AM           223,623 000000398237.jpg\n",
      "08/16/2014  03:12 AM           201,390 000000399205.jpg\n",
      "08/16/2014  03:00 AM           135,365 000000399296.jpg\n",
      "08/16/2014  03:06 AM           205,811 000000400161.jpg\n",
      "08/16/2014  03:10 AM           160,567 000000400922.jpg\n",
      "08/16/2014  02:45 AM           213,382 000000401446.jpg\n",
      "08/16/2014  02:46 AM           244,329 000000401862.jpg\n",
      "08/16/2014  02:30 AM           206,296 000000402346.jpg\n",
      "08/16/2014  02:31 AM            64,065 000000402473.jpg\n",
      "08/16/2014  02:54 AM            74,111 000000402783.jpg\n",
      "08/16/2014  02:47 AM           353,895 000000402992.jpg\n",
      "08/16/2014  03:04 AM           140,512 000000403353.jpg\n",
      "08/16/2014  02:41 AM            61,847 000000404568.jpg\n",
      "08/16/2014  03:08 AM           297,268 000000404923.jpg\n",
      "08/16/2014  03:01 AM           182,838 000000405195.jpg\n",
      "08/16/2014  03:08 AM           118,349 000000405279.jpg\n",
      "08/16/2014  02:59 AM           150,641 000000406611.jpg\n",
      "08/16/2014  02:41 AM           237,838 000000406997.jpg\n",
      "08/16/2014  02:57 AM           111,416 000000407524.jpg\n",
      "08/16/2014  03:08 AM           173,366 000000407868.jpg\n",
      "08/16/2014  02:35 AM           133,740 000000408112.jpg\n",
      "08/16/2014  02:34 AM           120,455 000000408696.jpg\n",
      "08/16/2014  02:59 AM            97,749 000000409475.jpg\n",
      "08/16/2014  03:02 AM           243,603 000000410456.jpg\n",
      "08/16/2014  03:09 AM           139,353 000000410650.jpg\n",
      "08/16/2014  02:56 AM           267,445 000000410934.jpg\n",
      "08/16/2014  02:55 AM           181,677 000000411530.jpg\n",
      "08/16/2014  03:07 AM           144,978 000000411817.jpg\n",
      "08/16/2014  02:32 AM           213,781 000000412531.jpg\n",
      "08/16/2014  03:02 AM           112,560 000000414034.jpg\n",
      "08/16/2014  02:44 AM           195,346 000000414133.jpg\n",
      "08/16/2014  02:58 AM           153,027 000000414385.jpg\n",
      "08/16/2014  02:48 AM           157,034 000000414795.jpg\n",
      "08/16/2014  02:30 AM           133,146 000000415194.jpg\n",
      "08/16/2014  02:40 AM           281,463 000000415536.jpg\n",
      "08/16/2014  03:06 AM           134,429 000000415716.jpg\n",
      "08/16/2014  03:09 AM           194,878 000000415727.jpg\n",
      "08/16/2014  02:48 AM           144,158 000000416104.jpg\n",
      "08/16/2014  02:46 AM           157,454 000000416330.jpg\n",
      "08/16/2014  03:07 AM           114,694 000000416451.jpg\n",
      "08/16/2014  02:47 AM           207,162 000000416758.jpg\n",
      "08/16/2014  02:37 AM           142,733 000000417043.jpg\n",
      "08/16/2014  03:15 AM           209,825 000000417632.jpg\n",
      "08/16/2014  02:40 AM           138,500 000000417779.jpg\n",
      "08/16/2014  03:11 AM           119,062 000000419653.jpg\n",
      "08/16/2014  02:49 AM           158,241 000000421757.jpg\n",
      "08/16/2014  02:41 AM           219,982 000000423617.jpg\n",
      "08/16/2014  02:55 AM           106,079 000000424551.jpg\n",
      "08/16/2014  02:42 AM           254,361 000000424975.jpg\n",
      "08/16/2014  03:11 AM           173,942 000000427034.jpg\n",
      "08/16/2014  03:09 AM           197,609 000000427055.jpg\n",
      "08/16/2014  02:52 AM           187,412 000000428218.jpg\n",
      "08/16/2014  02:41 AM           347,953 000000428562.jpg\n",
      "08/16/2014  02:29 AM           211,819 000000429598.jpg\n",
      "08/16/2014  03:04 AM           262,267 000000429623.jpg\n",
      "08/16/2014  02:46 AM           226,374 000000430073.jpg\n",
      "08/16/2014  02:31 AM            84,996 000000431140.jpg\n",
      "08/16/2014  02:45 AM           196,561 000000433134.jpg\n",
      "08/16/2014  02:34 AM           179,222 000000433204.jpg\n",
      "08/16/2014  03:08 AM           207,592 000000433515.jpg\n",
      "08/16/2014  02:56 AM           154,072 000000434297.jpg\n",
      "08/16/2014  02:55 AM           168,692 000000434548.jpg\n",
      "08/16/2014  03:04 AM           129,886 000000435299.jpg\n",
      "08/16/2014  02:30 AM           279,540 000000435880.jpg\n",
      "08/16/2014  03:00 AM           273,736 000000439426.jpg\n",
      "08/16/2014  02:43 AM           169,758 000000439593.jpg\n",
      "08/16/2014  02:42 AM           209,222 000000439715.jpg\n",
      "08/16/2014  03:12 AM           132,296 000000439773.jpg\n",
      "08/16/2014  02:44 AM           185,598 000000440617.jpg\n",
      "08/16/2014  02:36 AM           103,329 000000441553.jpg\n",
      "08/16/2014  03:04 AM            87,555 000000442323.jpg\n",
      "08/16/2014  02:37 AM           146,618 000000442661.jpg\n",
      "08/16/2014  03:12 AM           238,659 000000444275.jpg\n",
      "08/16/2014  02:59 AM           105,644 000000445602.jpg\n",
      "08/16/2014  03:12 AM           105,808 000000446207.jpg\n",
      "08/16/2014  02:31 AM           176,350 000000447169.jpg\n",
      "08/16/2014  03:09 AM           109,434 000000447187.jpg\n",
      "08/16/2014  02:52 AM           208,766 000000447200.jpg\n",
      "08/16/2014  02:53 AM           360,729 000000447313.jpg\n",
      "08/16/2014  02:57 AM           192,496 000000447522.jpg\n",
      "08/16/2014  03:06 AM           119,038 000000448076.jpg\n",
      "08/16/2014  02:38 AM           225,120 000000448448.jpg\n",
      "08/16/2014  03:10 AM           150,798 000000450303.jpg\n",
      "08/16/2014  02:54 AM           175,772 000000451144.jpg\n",
      "08/16/2014  03:03 AM            36,662 000000451155.jpg\n",
      "08/16/2014  03:03 AM           292,613 000000451571.jpg\n",
      "08/16/2014  03:03 AM           107,010 000000451693.jpg\n",
      "08/16/2014  02:39 AM           182,165 000000452321.jpg\n",
      "08/16/2014  02:50 AM           169,725 000000453001.jpg\n",
      "08/16/2014  03:06 AM           281,432 000000453341.jpg\n",
      "08/16/2014  02:40 AM           201,594 000000453584.jpg\n",
      "08/16/2014  02:57 AM           129,958 000000455267.jpg\n",
      "08/16/2014  03:07 AM           249,838 000000455937.jpg\n",
      "08/16/2014  02:35 AM           238,378 000000457078.jpg\n",
      "08/16/2014  02:43 AM           220,190 000000458109.jpg\n",
      "08/16/2014  03:07 AM           244,497 000000458410.jpg\n",
      "08/16/2014  02:40 AM           289,406 000000458755.jpg\n",
      "08/16/2014  02:38 AM           216,416 000000459757.jpg\n",
      "08/16/2014  02:43 AM           246,968 000000460160.jpg\n",
      "08/16/2014  03:04 AM           181,135 000000460333.jpg\n",
      "08/16/2014  03:14 AM           194,676 000000462576.jpg\n",
      "08/16/2014  02:53 AM           165,447 000000462904.jpg\n",
      "08/16/2014  02:53 AM           135,931 000000463522.jpg\n",
      "08/16/2014  02:58 AM           111,533 000000463527.jpg\n",
      "08/16/2014  02:43 AM           144,782 000000463647.jpg\n",
      "08/16/2014  03:02 AM           107,964 000000463842.jpg\n",
      "08/16/2014  02:55 AM           225,075 000000464089.jpg\n",
      "08/16/2014  02:30 AM           164,652 000000465129.jpg\n",
      "08/16/2014  02:55 AM           200,343 000000465806.jpg\n",
      "08/16/2014  02:46 AM           266,176 000000467848.jpg\n",
      "08/16/2014  03:00 AM           134,196 000000468505.jpg\n",
      "08/16/2014  02:35 AM           198,850 000000468925.jpg\n",
      "08/16/2014  03:08 AM           144,317 000000468965.jpg\n",
      "08/16/2014  02:46 AM            98,023 000000469067.jpg\n",
      "08/16/2014  02:33 AM           182,050 000000469192.jpg\n",
      "08/16/2014  02:43 AM           173,569 000000469246.jpg\n",
      "08/16/2014  02:54 AM           149,530 000000469828.jpg\n",
      "08/16/2014  02:58 AM           190,473 000000470121.jpg\n",
      "08/16/2014  03:14 AM           324,171 000000470773.jpg\n",
      "08/16/2014  02:51 AM           174,109 000000471450.jpg\n",
      "08/16/2014  02:37 AM           148,887 000000471567.jpg\n",
      "08/16/2014  03:08 AM           194,206 000000471789.jpg\n",
      "08/16/2014  02:39 AM           241,664 000000472030.jpg\n",
      "08/16/2014  02:34 AM           127,462 000000472678.jpg\n",
      "08/16/2014  03:09 AM           175,959 000000474078.jpg\n",
      "08/16/2014  02:49 AM           215,390 000000474170.jpg\n",
      "08/16/2014  03:08 AM           170,172 000000474293.jpg\n",
      "08/16/2014  02:39 AM           175,738 000000474881.jpg\n",
      "08/16/2014  03:04 AM           146,591 000000475191.jpg\n",
      "08/16/2014  02:51 AM           152,535 000000475678.jpg\n",
      "08/16/2014  02:42 AM           105,257 000000475732.jpg\n",
      "08/16/2014  03:10 AM           159,697 000000476787.jpg\n",
      "08/16/2014  02:47 AM           147,213 000000476810.jpg\n",
      "08/16/2014  02:35 AM           183,590 000000477441.jpg\n",
      "08/16/2014  02:45 AM           232,947 000000477623.jpg\n",
      "08/16/2014  02:43 AM           119,838 000000478286.jpg\n",
      "08/16/2014  03:08 AM           247,680 000000478721.jpg\n",
      "08/16/2014  02:37 AM           148,083 000000478862.jpg\n",
      "08/16/2014  02:39 AM           391,541 000000479099.jpg\n",
      "08/16/2014  03:06 AM           198,998 000000479248.jpg\n",
      "08/16/2014  03:11 AM           205,245 000000480212.jpg\n",
      "08/16/2014  02:33 AM           253,887 000000481567.jpg\n",
      "08/16/2014  03:06 AM           126,125 000000482319.jpg\n",
      "08/16/2014  02:42 AM           162,541 000000482585.jpg\n",
      "08/16/2014  02:34 AM           278,586 000000482719.jpg\n",
      "08/16/2014  03:03 AM           124,629 000000483531.jpg\n",
      "08/16/2014  02:52 AM           337,796 000000484296.jpg\n",
      "08/16/2014  02:40 AM           136,975 000000484404.jpg\n",
      "08/16/2014  02:30 AM           166,196 000000485424.jpg\n",
      "08/16/2014  02:38 AM           240,827 000000486046.jpg\n",
      "08/16/2014  02:34 AM            74,971 000000488075.jpg\n",
      "08/16/2014  03:10 AM           309,036 000000488736.jpg\n",
      "08/16/2014  02:47 AM           117,898 000000489014.jpg\n",
      "08/16/2014  02:47 AM           207,440 000000490470.jpg\n",
      "08/16/2014  02:33 AM           195,079 000000491213.jpg\n",
      "08/16/2014  02:31 AM           216,960 000000492077.jpg\n",
      "08/16/2014  02:45 AM           175,493 000000492284.jpg\n",
      "08/16/2014  02:47 AM            85,753 000000494634.jpg\n",
      "08/16/2014  03:08 AM            56,456 000000494759.jpg\n",
      "08/16/2014  02:43 AM           202,197 000000494863.jpg\n",
      "08/16/2014  02:42 AM           129,584 000000495146.jpg\n",
      "08/16/2014  02:47 AM           111,104 000000496597.jpg\n",
      "08/16/2014  02:51 AM           184,111 000000496854.jpg\n",
      "08/16/2014  02:55 AM           212,907 000000496954.jpg\n",
      "08/16/2014  02:32 AM           190,519 000000498286.jpg\n",
      "08/16/2014  03:12 AM            74,593 000000498463.jpg\n",
      "08/16/2014  02:42 AM           175,596 000000499181.jpg\n",
      "08/16/2014  03:11 AM           130,467 000000499266.jpg\n",
      "08/16/2014  02:40 AM           143,621 000000499775.jpg\n",
      "08/16/2014  02:50 AM           211,759 000000500211.jpg\n",
      "08/16/2014  02:40 AM           202,112 000000500477.jpg\n",
      "08/16/2014  02:46 AM           108,331 000000500663.jpg\n",
      "08/16/2014  02:32 AM           106,547 000000501523.jpg\n",
      "08/16/2014  02:37 AM           145,053 000000503841.jpg\n",
      "08/16/2014  02:38 AM           179,613 000000506454.jpg\n",
      "08/16/2014  02:54 AM           175,428 000000506656.jpg\n",
      "08/16/2014  02:31 AM           199,864 000000507037.jpg\n",
      "08/16/2014  03:07 AM           139,262 000000507575.jpg\n",
      "08/16/2014  02:32 AM           247,195 000000507975.jpg\n",
      "08/16/2014  02:49 AM           111,674 000000508101.jpg\n",
      "08/16/2014  02:54 AM           173,197 000000508639.jpg\n",
      "08/16/2014  02:53 AM           229,614 000000509656.jpg\n",
      "08/16/2014  02:50 AM           233,467 000000510329.jpg\n",
      "08/16/2014  02:46 AM           217,158 000000511599.jpg\n",
      "08/16/2014  03:08 AM           126,147 000000511647.jpg\n",
      "08/16/2014  03:01 AM           142,028 000000512985.jpg\n",
      "08/16/2014  03:06 AM           207,012 000000513041.jpg\n",
      "08/16/2014  03:00 AM           109,953 000000513567.jpg\n",
      "08/16/2014  03:10 AM           157,052 000000513688.jpg\n",
      "08/16/2014  02:42 AM           398,683 000000514376.jpg\n",
      "08/16/2014  03:04 AM           217,261 000000514508.jpg\n",
      "08/16/2014  03:02 AM           102,589 000000515445.jpg\n",
      "08/16/2014  02:38 AM           174,814 000000516143.jpg\n",
      "08/16/2014  02:56 AM           258,869 000000516677.jpg\n",
      "08/16/2014  03:05 AM           106,091 000000516916.jpg\n",
      "08/16/2014  02:36 AM           148,150 000000517069.jpg\n",
      "08/16/2014  02:47 AM           292,838 000000518213.jpg\n",
      "08/16/2014  03:04 AM           248,534 000000518326.jpg\n",
      "08/16/2014  02:51 AM           214,735 000000519611.jpg\n",
      "08/16/2014  03:11 AM           209,170 000000520264.jpg\n",
      "08/16/2014  02:36 AM           182,564 000000520324.jpg\n",
      "08/16/2014  02:46 AM           131,810 000000520531.jpg\n",
      "08/16/2014  03:02 AM           170,164 000000520659.jpg\n",
      "08/16/2014  02:51 AM           137,326 000000520707.jpg\n",
      "08/16/2014  02:49 AM           117,597 000000520832.jpg\n",
      "08/16/2014  02:45 AM           175,077 000000521052.jpg\n",
      "08/16/2014  02:55 AM           182,833 000000521540.jpg\n",
      "08/16/2014  03:01 AM            41,958 000000521601.jpg\n",
      "08/16/2014  02:53 AM           168,568 000000521819.jpg\n",
      "08/16/2014  02:30 AM           111,085 000000522007.jpg\n",
      "08/16/2014  02:36 AM           120,822 000000522713.jpg\n",
      "08/16/2014  02:41 AM            82,191 000000523782.jpg\n",
      "08/16/2014  02:42 AM           133,909 000000523811.jpg\n",
      "08/16/2014  03:10 AM           206,645 000000524456.jpg\n",
      "08/16/2014  02:44 AM           215,019 000000524742.jpg\n",
      "08/16/2014  02:49 AM           218,589 000000526103.jpg\n",
      "08/16/2014  03:13 AM           205,924 000000526256.jpg\n",
      "08/16/2014  03:11 AM           136,728 000000527427.jpg\n",
      "08/16/2014  03:08 AM           156,045 000000527528.jpg\n",
      "08/16/2014  02:54 AM           238,043 000000529105.jpg\n",
      "08/16/2014  03:02 AM           199,047 000000529939.jpg\n",
      "08/16/2014  02:44 AM           245,637 000000530466.jpg\n",
      "08/16/2014  03:00 AM           142,832 000000530975.jpg\n",
      "08/16/2014  02:36 AM           137,992 000000531134.jpg\n",
      "08/16/2014  02:36 AM            83,314 000000531707.jpg\n",
      "08/16/2014  03:06 AM           165,530 000000532761.jpg\n",
      "08/16/2014  02:46 AM           126,900 000000533536.jpg\n",
      "08/16/2014  02:40 AM           190,869 000000534673.jpg\n",
      "08/16/2014  03:11 AM           119,855 000000536947.jpg\n",
      "08/16/2014  03:14 AM           214,283 000000537802.jpg\n",
      "08/16/2014  02:32 AM           176,044 000000537812.jpg\n",
      "08/16/2014  02:35 AM           213,567 000000538364.jpg\n",
      "08/16/2014  02:51 AM           169,875 000000539962.jpg\n",
      "08/16/2014  02:49 AM           263,719 000000540414.jpg\n",
      "08/16/2014  03:02 AM           203,596 000000540932.jpg\n",
      "08/16/2014  02:40 AM           212,725 000000542625.jpg\n",
      "08/16/2014  02:37 AM           204,439 000000543043.jpg\n",
      "08/16/2014  02:29 AM            92,797 000000543047.jpg\n",
      "08/16/2014  02:48 AM           184,016 000000543300.jpg\n",
      "08/16/2014  02:36 AM           118,116 000000543528.jpg\n",
      "08/16/2014  02:39 AM           158,022 000000545219.jpg\n",
      "08/16/2014  02:53 AM           193,855 000000546823.jpg\n",
      "08/16/2014  03:14 AM            95,485 000000546826.jpg\n",
      "08/16/2014  03:08 AM           115,178 000000547144.jpg\n",
      "08/16/2014  02:52 AM           323,088 000000547502.jpg\n",
      "08/16/2014  02:38 AM           117,743 000000548267.jpg\n",
      "08/16/2014  03:07 AM           139,783 000000549674.jpg\n",
      "08/16/2014  02:39 AM           164,686 000000550691.jpg\n",
      "08/16/2014  02:38 AM           206,384 000000551350.jpg\n",
      "08/16/2014  02:59 AM           142,024 000000551780.jpg\n",
      "08/16/2014  02:35 AM           243,460 000000551794.jpg\n",
      "08/16/2014  02:46 AM            83,283 000000551815.jpg\n",
      "08/16/2014  03:09 AM           189,901 000000553669.jpg\n",
      "08/16/2014  03:04 AM           157,540 000000554735.jpg\n",
      "08/16/2014  02:52 AM           127,290 000000555005.jpg\n",
      "08/16/2014  02:42 AM           277,868 000000556498.jpg\n",
      "08/16/2014  02:31 AM           141,590 000000557172.jpg\n",
      "08/16/2014  02:31 AM           154,001 000000557501.jpg\n",
      "08/16/2014  02:48 AM           249,063 000000558114.jpg\n",
      "08/16/2014  02:38 AM            86,927 000000558558.jpg\n",
      "08/16/2014  03:09 AM           119,574 000000559348.jpg\n",
      "08/16/2014  02:41 AM           239,735 000000559956.jpg\n",
      "08/16/2014  02:58 AM            86,522 000000560178.jpg\n",
      "08/16/2014  02:54 AM           196,758 000000560256.jpg\n",
      "08/16/2014  02:32 AM           252,952 000000560474.jpg\n",
      "08/16/2014  02:32 AM           227,593 000000561256.jpg\n",
      "08/16/2014  03:12 AM           109,815 000000561366.jpg\n",
      "08/16/2014  02:42 AM           236,048 000000561679.jpg\n",
      "08/16/2014  02:56 AM           185,592 000000561889.jpg\n",
      "08/16/2014  02:59 AM           238,998 000000561958.jpg\n",
      "08/16/2014  02:53 AM           230,872 000000562443.jpg\n",
      "08/16/2014  02:38 AM            81,990 000000562448.jpg\n",
      "08/16/2014  02:52 AM           121,232 000000562561.jpg\n",
      "08/16/2014  02:59 AM           119,383 000000562818.jpg\n",
      "08/16/2014  02:41 AM           153,284 000000565563.jpg\n",
      "08/16/2014  02:44 AM           264,043 000000566524.jpg\n",
      "08/16/2014  02:40 AM           225,800 000000566758.jpg\n",
      "08/16/2014  02:55 AM           240,840 000000567740.jpg\n",
      "08/16/2014  03:06 AM           110,801 000000569059.jpg\n",
      "08/16/2014  02:40 AM           198,160 000000569273.jpg\n",
      "08/16/2014  03:06 AM           156,296 000000570456.jpg\n",
      "08/16/2014  03:08 AM           138,365 000000570688.jpg\n",
      "08/16/2014  02:32 AM           183,775 000000570834.jpg\n",
      "08/16/2014  02:37 AM           228,005 000000571943.jpg\n",
      "08/16/2014  02:44 AM           190,752 000000572303.jpg\n",
      "08/16/2014  02:53 AM           123,242 000000572900.jpg\n",
      "08/16/2014  03:09 AM           101,539 000000573008.jpg\n",
      "08/16/2014  02:57 AM           151,722 000000573258.jpg\n",
      "08/16/2014  02:52 AM           384,362 000000573391.jpg\n",
      "08/16/2014  02:45 AM           186,230 000000573943.jpg\n",
      "08/16/2014  02:46 AM           112,600 000000574315.jpg\n",
      "08/16/2014  02:38 AM            98,542 000000575372.jpg\n",
      "08/16/2014  02:30 AM           183,923 000000575970.jpg\n",
      "08/16/2014  02:57 AM           182,619 000000576031.jpg\n",
      "08/16/2014  03:10 AM           169,729 000000577735.jpg\n",
      "             400 File(s)     71,569,975 bytes\n",
      "               2 Dir(s)  18,465,103,872 bytes free\n"
     ]
    }
   ],
   "source": [
    "ls"
   ]
  },
  {
   "cell_type": "code",
   "execution_count": 33,
   "metadata": {},
   "outputs": [
    {
     "name": "stdout",
     "output_type": "stream",
     "text": [
      "C:\\Users\\Abd El Rahman\\Desktop\\College\\Term 8\\Pattern recognition\\Projects\\Face Recognition\n"
     ]
    }
   ],
   "source": [
    "cd .."
   ]
  },
  {
   "cell_type": "code",
   "execution_count": 34,
   "metadata": {},
   "outputs": [
    {
     "data": {
      "text/plain": [
       "array([[0, 1, 1, 3, 3],\n",
       "       [5, 6, 6, 8, 8]])"
      ]
     },
     "execution_count": 34,
     "metadata": {},
     "output_type": "execute_result"
    }
   ],
   "source": [
    "x = np.array([[1, 2, 3, 4, 5],\n",
    "     [6, 7, 8, 9, 10]])\n",
    "y = np.array([1, 1, 2, 1, 2])\n",
    "x - y"
   ]
  },
  {
   "cell_type": "code",
   "execution_count": 35,
   "metadata": {},
   "outputs": [
    {
     "data": {
      "text/plain": [
       "array([[ 3.90962162, -2.36707834,  0.9263888 , ..., -0.19369231,\n",
       "         0.5105725 , -1.30616337],\n",
       "       [-2.36707834,  1.43314632, -0.56088161, ...,  0.11727091,\n",
       "        -0.30912585,  0.79081592],\n",
       "       [ 0.9263888 , -0.56088161,  0.21950877, ..., -0.04589559,\n",
       "         0.12098067, -0.30949673],\n",
       "       ...,\n",
       "       [-0.19369231,  0.11727091, -0.04589559, ...,  0.009596  ,\n",
       "        -0.02529502,  0.06471056],\n",
       "       [ 0.5105725 , -0.30912585,  0.12098067, ..., -0.02529502,\n",
       "         0.06667762, -0.17057689],\n",
       "       [-1.30616337,  0.79081592, -0.30949673, ...,  0.06471056,\n",
       "        -0.17057689,  0.43637541]])"
      ]
     },
     "execution_count": 35,
     "metadata": {},
     "output_type": "execute_result"
    }
   ],
   "source": [
    "x = np.random.normal(0, 1, 500)\n",
    "y = np.random.normal(0, 1, 500)\n",
    "X = np.vstack((x, y)).T\n",
    "np.cov(X)"
   ]
  },
  {
   "cell_type": "code",
   "execution_count": 36,
   "metadata": {},
   "outputs": [
    {
     "data": {
      "text/plain": [
       "array([2.5, 3.5, 4.5])"
      ]
     },
     "execution_count": 36,
     "metadata": {},
     "output_type": "execute_result"
    }
   ],
   "source": [
    "a = np.array([[1, 2, 3],\n",
    "              [4, 5, 6]])\n",
    "np.mean(a, axis = 0)"
   ]
  },
  {
   "cell_type": "code",
   "execution_count": null,
   "metadata": {},
   "outputs": [],
   "source": []
  }
 ],
 "metadata": {
  "colab": {
   "collapsed_sections": [],
   "name": "Untitled0.ipynb",
   "provenance": [],
   "toc_visible": true,
   "version": "0.3.2"
  },
  "kernelspec": {
   "display_name": "Python 3",
   "language": "python",
   "name": "python3"
  },
  "language_info": {
   "codemirror_mode": {
    "name": "ipython",
    "version": 3
   },
   "file_extension": ".py",
   "mimetype": "text/x-python",
   "name": "python",
   "nbconvert_exporter": "python",
   "pygments_lexer": "ipython3",
   "version": "3.6.4"
  }
 },
 "nbformat": 4,
 "nbformat_minor": 1
}
